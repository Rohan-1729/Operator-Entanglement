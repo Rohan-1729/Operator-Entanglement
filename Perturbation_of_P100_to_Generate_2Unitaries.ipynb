{
 "cells": [
  {
   "cell_type": "markdown",
   "id": "ef9a6477",
   "metadata": {},
   "source": [
    "# A General Scheme to Generate 2-Unitaries on (4,10)"
   ]
  },
  {
   "cell_type": "code",
   "execution_count": 14,
   "id": "23af82fd",
   "metadata": {},
   "outputs": [],
   "source": [
    "from scipy.stats import unitary_group\n",
    "from itertools import permutations\n",
    "import numpy as np\n",
    "from numpy import linalg as la\n",
    "import matplotlib.pyplot as plt\n",
    "import itertools\n",
    "import math\n",
    "import random\n",
    "from mpl_toolkits.axes_grid1.inset_locator import (inset_axes,InsetPosition)"
   ]
  },
  {
   "cell_type": "code",
   "execution_count": 15,
   "id": "c8dbf794",
   "metadata": {},
   "outputs": [],
   "source": [
    "from ipynb.fs.full.The_Non_Linear_Maps_4_Parties import ConjugateTranspose\n",
    "from ipynb.fs.full.The_Non_Linear_Maps_4_Parties import EntVec\n",
    "from ipynb.fs.full.The_Non_Linear_Maps_4_Parties import UR\n",
    "from ipynb.fs.full.The_Non_Linear_Maps_4_Parties import UT\n",
    "from ipynb.fs.full.The_Non_Linear_Maps_4_Parties import UnitaryMatrixQ\n",
    "from ipynb.fs.full.The_Non_Linear_Maps_4_Parties import NLMap"
   ]
  },
  {
   "cell_type": "markdown",
   "id": "82d358df",
   "metadata": {},
   "source": [
    "## $P_{100}$"
   ]
  },
  {
   "cell_type": "code",
   "execution_count": 16,
   "id": "5e869940",
   "metadata": {},
   "outputs": [],
   "source": [
    "import scipy.io\n",
    "mat2 = scipy.io.loadmat('P100.mat')\n",
    "P100=mat2['Expression1']"
   ]
  },
  {
   "cell_type": "markdown",
   "id": "6a0cf9a8",
   "metadata": {},
   "source": [
    "## Perturbation as $P_{100} + i*\\lambda*U_{CUE}$"
   ]
  },
  {
   "cell_type": "code",
   "execution_count": 6,
   "id": "2f7a2122",
   "metadata": {},
   "outputs": [
    {
     "name": "stdout",
     "output_type": "stream",
     "text": [
      "(0.9999999999999999, 0.9999999999999999)\n",
      "True True True\n"
     ]
    },
    {
     "data": {
      "text/plain": [
       "(0.9900542098778726, 0.990047261190066)"
      ]
     },
     "execution_count": 6,
     "metadata": {},
     "output_type": "execute_result"
    }
   ],
   "source": [
    "per_par=10**(-2.5)\n",
    "U_Seed1=P100@(np.eye(100)+1j*per_par*unitary_group.rvs(100))\n",
    "U_Rec1=NLMap(U_Seed1,10,1000)\n",
    "print(EntVec(U_Rec1,10))\n",
    "print(UnitaryMatrixQ(U_Rec1,100),UnitaryMatrixQ(UR(U_Rec1,10),100),UnitaryMatrixQ(UT(U_Rec1,10),100))\n",
    "\n",
    "EntVec(unitary_group.rvs(100),10)"
   ]
  },
  {
   "cell_type": "code",
   "execution_count": null,
   "id": "74d1cf87",
   "metadata": {},
   "outputs": [],
   "source": [
    "%store U_Rec1\n",
    "#Passing the generated 2-unitary to the distribution generator file"
   ]
  },
  {
   "cell_type": "markdown",
   "id": "77c49484",
   "metadata": {},
   "source": [
    "### Verification of Distinctness of the Generated 2-Unitaries "
   ]
  },
  {
   "cell_type": "code",
   "execution_count": null,
   "id": "1a4985d6",
   "metadata": {},
   "outputs": [],
   "source": [
    "l=[]\n",
    "for i in range(3):\n",
    "    U_Seed_loop=P100@(np.eye(100)+1j*per_par*unitary_group.rvs(100))\n",
    "    U_Rec_loop=NLMap(U_Seed_loop,10,1000)\n",
    "    print(EntVec(U_Rec_loop,10))\n",
    "    l.append(la.norm(U_Rec_loop-U_Rec1))\n",
    "    print(np.allclose(U_Rec_loop,U_Rec1,rtol=0,atol=1e-02))\n",
    "print(l)"
   ]
  },
  {
   "cell_type": "markdown",
   "id": "0f40b2d8",
   "metadata": {},
   "source": [
    "#Thus, the generated 2-unitaries are NOT\n",
    "distinct - upto a tolerance of ~ $10^{-2}$"
   ]
  },
  {
   "cell_type": "markdown",
   "id": "97248d27",
   "metadata": {},
   "source": [
    "## Perturbation as $P_{100}*(\\mathbb{1}+i*\\lambda*H)$"
   ]
  },
  {
   "cell_type": "code",
   "execution_count": null,
   "id": "a92d3b6f",
   "metadata": {},
   "outputs": [],
   "source": [
    "per_par=10**(-2.5)\n",
    "U0=unitary_group.rvs(100)\n",
    "H_per=(U0+ConjugateTranspose(U0))/2\n",
    "U_Seed2=P100*(np.eye(100)+1j*per_par*H_per)\n",
    "U_Rec2=NLMap(U_Seed2,10,1000)\n",
    "print(EntVec(U_Rec2,10))\n",
    "print(UnitaryMatrixQ(U_Rec2,100),UnitaryMatrixQ(UR(U_Rec2,10),100),UnitaryMatrixQ(UT(U_Rec2,10),100))"
   ]
  },
  {
   "cell_type": "code",
   "execution_count": 19,
   "id": "13422d2f",
   "metadata": {},
   "outputs": [
    {
     "name": "stdout",
     "output_type": "stream",
     "text": [
      "Stored 'U_Rec2' (ndarray)\n"
     ]
    }
   ],
   "source": [
    "%store U_Rec2\n",
    "#Passing the generated 2-unitary to the distribution generator file"
   ]
  },
  {
   "cell_type": "markdown",
   "id": "1490120e",
   "metadata": {},
   "source": [
    "### Verification of Distinctness of the Generated 2-Unitaries "
   ]
  },
  {
   "cell_type": "code",
   "execution_count": 9,
   "id": "66006e64",
   "metadata": {},
   "outputs": [
    {
     "name": "stdout",
     "output_type": "stream",
     "text": [
      "(1.0, 1.0)\n",
      "False\n",
      "(1.0, 1.0)\n",
      "False\n",
      "(1.0, 1.0)\n",
      "False\n",
      "[13.742409443496852, 13.981951428021455, 13.847992641123207]\n"
     ]
    }
   ],
   "source": [
    "l=[]\n",
    "for i in range(3):\n",
    "    U0=unitary_group.rvs(100)\n",
    "    H_per=(U0+ConjugateTranspose(U0))/2\n",
    "    U_Seed_loop=P100*(np.eye(100)+1j*per_par*H_per)\n",
    "    U_Rec_loop=NLMap(U_Seed_loop,10,1000)\n",
    "    print(EntVec(U_Rec_loop,10))\n",
    "    l.append(la.norm(U_Rec_loop-U_Rec2))\n",
    "    print(np.allclose(U_Rec_loop,U_Rec2,rtol=0,atol=1e-02))\n",
    "print(l)"
   ]
  },
  {
   "cell_type": "markdown",
   "id": "8dec19fe",
   "metadata": {},
   "source": [
    "#The 2-Unitaries generated are unique"
   ]
  },
  {
   "cell_type": "markdown",
   "id": "5638a713",
   "metadata": {},
   "source": [
    "## Perturbation as $D_{100}*P_{100}$"
   ]
  },
  {
   "cell_type": "markdown",
   "id": "29c92f6c",
   "metadata": {},
   "source": [
    "### Real $D_{100}$"
   ]
  },
  {
   "cell_type": "code",
   "execution_count": 7,
   "id": "9bacaf41",
   "metadata": {},
   "outputs": [],
   "source": [
    "#Generation of D100\n",
    "def Real2UnitaryPerturber(U,N):\n",
    "    phase_list=[1,-1]\n",
    "    v=[random.choice(phase_list) for i in range(N)]\n",
    "    D=np.diag(v)\n",
    "    return D@N"
   ]
  }
 ],
 "metadata": {
  "kernelspec": {
   "display_name": "Python 3 (ipykernel)",
   "language": "python",
   "name": "python3"
  },
  "language_info": {
   "codemirror_mode": {
    "name": "ipython",
    "version": 3
   },
   "file_extension": ".py",
   "mimetype": "text/x-python",
   "name": "python",
   "nbconvert_exporter": "python",
   "pygments_lexer": "ipython3",
   "version": "3.9.7"
  }
 },
 "nbformat": 4,
 "nbformat_minor": 5
}
