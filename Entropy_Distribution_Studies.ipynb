{
 "cells": [
  {
   "cell_type": "markdown",
   "id": "9feccdcf",
   "metadata": {},
   "source": [
    "# Entropy Distribution Studies to Determine LU Connectedness"
   ]
  },
  {
   "cell_type": "code",
   "execution_count": 1,
   "id": "b8f8f7f2",
   "metadata": {},
   "outputs": [],
   "source": [
    "from scipy.stats import unitary_group\n",
    "from itertools import permutations\n",
    "import numpy as np\n",
    "from numpy import linalg as la\n",
    "from numpy.linalg import eig\n",
    "import matplotlib.pyplot as plt\n",
    "import itertools\n",
    "import math\n",
    "import cmath\n",
    "from scipy.stats import unitary_group\n",
    "import matplotlib.pyplot as plt\n",
    "from scipy import stats\n",
    "import statistics\n",
    "import random\n",
    "import array as arr\n",
    "from mpl_toolkits.axes_grid1.inset_locator import (inset_axes,InsetPosition)"
   ]
  },
  {
   "cell_type": "code",
   "execution_count": 2,
   "id": "b6d4fb40",
   "metadata": {},
   "outputs": [],
   "source": [
    "from ipynb.fs.full.The_Non_Linear_Maps_4_Parties import EntVec\n",
    "from ipynb.fs.full.The_Non_Linear_Maps_4_Parties import UR\n",
    "from ipynb.fs.full.The_Non_Linear_Maps_4_Parties import UT\n",
    "from ipynb.fs.full.The_Non_Linear_Maps_4_Parties import UnitaryMatrixQ"
   ]
  },
  {
   "cell_type": "code",
   "execution_count": 3,
   "id": "d8129e06",
   "metadata": {},
   "outputs": [],
   "source": [
    "def ConjugateTranspose(self):\n",
    "    return self.conj().T"
   ]
  },
  {
   "cell_type": "markdown",
   "id": "1df5d2b3",
   "metadata": {},
   "source": [
    "Function to Generate the Computational Basis Vectors as Column Vectors"
   ]
  },
  {
   "cell_type": "code",
   "execution_count": 4,
   "id": "f6108646",
   "metadata": {},
   "outputs": [],
   "source": [
    "def CompB(i,d):\n",
    "    bv=np.zeros(d)\n",
    "    bv[i]=1\n",
    "    bv=bv[...,None]\n",
    "    return bv"
   ]
  },
  {
   "cell_type": "markdown",
   "id": "891681ce",
   "metadata": {},
   "source": [
    "Functions for the Calculation of the Partial Traces"
   ]
  },
  {
   "cell_type": "code",
   "execution_count": 5,
   "id": "2599dc87",
   "metadata": {},
   "outputs": [],
   "source": [
    "def TraceOutB(rho_AB,d):\n",
    "    dummyarray=[]\n",
    "    \n",
    "    for i in range(d):\n",
    "        dummyarray.append(np.dot(np.dot(np.kron(np.eye(d),ConjugateTranspose(CompB(i,d))),rho_AB),np.kron(np.eye(d),CompB(i,d))))\n",
    "    return sum(dummyarray)    "
   ]
  },
  {
   "cell_type": "code",
   "execution_count": 6,
   "id": "a4bdf86d",
   "metadata": {},
   "outputs": [],
   "source": [
    "def TraceOutA(rho_AB,d):\n",
    "    dummyarray=[]\n",
    "    \n",
    "    for i in range(d):\n",
    "        dummyarray.append(np.dot(np.dot(np.kron(ConjugateTranspose(CompB(i,d)),np.eye(d)),rho_AB),np.kron(CompB(i,d),np.eye(d))))\n",
    "    return sum(dummyarray)  "
   ]
  },
  {
   "cell_type": "markdown",
   "id": "508b8bf7",
   "metadata": {},
   "source": [
    "Von Neumann Entanglement Entropy Calculation Function "
   ]
  },
  {
   "cell_type": "code",
   "execution_count": 7,
   "id": "f08ec734",
   "metadata": {},
   "outputs": [],
   "source": [
    "def EntangEnt(psi_AB,d):\n",
    "    rho_AB=np.dot(psi_AB,ConjugateTranspose(psi_AB))\n",
    "    rho_A=TraceOutB(rho_AB,d)\n",
    "    w,v=eig(rho_A)\n",
    "    w=[np.real(i) for i in w]\n",
    "    w = [-i*math.log(i,2) for i in w if i>0]\n",
    "    \n",
    "    return sum(w)"
   ]
  },
  {
   "cell_type": "markdown",
   "id": "716d5b82",
   "metadata": {},
   "source": [
    "Haar States Generator"
   ]
  },
  {
   "cell_type": "code",
   "execution_count": 8,
   "id": "62c508c3",
   "metadata": {},
   "outputs": [],
   "source": [
    "def HaarGen(d):\n",
    "    HaarState=[]\n",
    "    for i in range(d):\n",
    "        HaarState.append(np.random.normal(0,1)+np.random.normal(0,1)*1j)\n",
    "    HaarState=HaarState/(la.norm(HaarState))\n",
    "    HaarState=HaarState[...,None]\n",
    "    return HaarState"
   ]
  },
  {
   "cell_type": "markdown",
   "id": "ce3387bf",
   "metadata": {},
   "source": [
    "## Entanglement Distribution Studies on (4,3)"
   ]
  },
  {
   "cell_type": "markdown",
   "id": "8a029af9",
   "metadata": {},
   "source": [
    "The $P_9$ Unitary and its Reshaped Versions"
   ]
  },
  {
   "cell_type": "code",
   "execution_count": 9,
   "id": "76cce7bd",
   "metadata": {},
   "outputs": [],
   "source": [
    "P9 =[ \n",
    "  [1, 0, 0, 0, 0, 0, 0, 0, 0],\n",
    "  [0, 0, 0, 0, 0, 0, 0, 1, 0],\n",
    "  [0, 0, 0, 0, 0, 1, 0, 0, 0],\n",
    "  [0, 0, 0, 0, 0, 0, 0, 0, 1],\n",
    "  [0, 0, 0, 1, 0, 0, 0, 0, 0],\n",
    "  [0, 1, 0, 0, 0, 0, 0, 0, 0],\n",
    "  [0, 0, 0, 0, 1, 0, 0, 0, 0],\n",
    "  [0, 0, 1, 0, 0, 0, 0, 0, 0],\n",
    "  [0, 0, 0, 0, 0, 0, 1, 0, 0]\n",
    "]\n",
    "P9=np.array(P9)"
   ]
  },
  {
   "cell_type": "code",
   "execution_count": 10,
   "id": "3fe63074",
   "metadata": {},
   "outputs": [],
   "source": [
    "P9R=UR(P9,3)\n",
    "P9T=UT(P9,3)"
   ]
  },
  {
   "cell_type": "markdown",
   "id": "3b987328",
   "metadata": {},
   "source": [
    "The Entanglement Distribution for $P_9$ and its Reshaped Versions"
   ]
  },
  {
   "cell_type": "code",
   "execution_count": 11,
   "id": "51f4160a",
   "metadata": {},
   "outputs": [],
   "source": [
    "dist_P9=[]\n",
    "for i in range(10**5):\n",
    "    dist_P9.append(EntangEnt(np.dot(P9,np.kron(HaarGen(3),HaarGen(3))),3))"
   ]
  },
  {
   "cell_type": "code",
   "execution_count": 12,
   "id": "f163f9be",
   "metadata": {},
   "outputs": [],
   "source": [
    "dist_P9R=[]\n",
    "for i in range(10**5):\n",
    "    dist_P9R.append(EntangEnt(np.dot(P9R,np.kron(HaarGen(3),HaarGen(3))),3))"
   ]
  },
  {
   "cell_type": "code",
   "execution_count": 13,
   "id": "ae9ca5d5",
   "metadata": {},
   "outputs": [],
   "source": [
    "dist_P9T=[]\n",
    "for i in range(10**5):\n",
    "    dist_P9T.append(EntangEnt(np.dot(P9T,np.kron(HaarGen(3),HaarGen(3))),3))"
   ]
  },
  {
   "cell_type": "code",
   "execution_count": 14,
   "id": "f68e2aea",
   "metadata": {},
   "outputs": [
    {
     "data": {
      "image/png": "[encoded data removed]",
      "text/plain": [
       "<Figure size 432x288 with 1 Axes>"
      ]
     },
     "metadata": {
      "needs_background": "light"
     },
     "output_type": "display_data"
    },
    {
     "name": "stdout",
     "output_type": "stream",
     "text": [
      "P9 :-  Mean =  1.1476463981909026 Variance =  0.022415289945645386  Max entropy created =  1.571463750040621\n",
      "P9R:-  Mean =  1.148565216338746 Variance =  0.022424607897372082 Max entropy created =  1.5755579850552301\n",
      "P9T:-  Mean =  1.1482362499117316  Variance =  0.02245202715128391 Max entropy created =  1.5779485170252894\n"
     ]
    }
   ],
   "source": [
    "plt.hist(dist_P9,bins=200,density=True,label='P9')\n",
    "plt.hist(dist_P9R,bins=200,density=True,label='P9R')\n",
    "plt.hist(dist_P9T,bins=200,density=True,label='P9T')\n",
    "plt.legend(loc='upper right')\n",
    "plt.show()\n",
    "print(\"P9 :- \",\"Mean = \", statistics.mean(dist_P9),\"Variance = \",statistics.variance(dist_P9),\" Max entropy created = \",max(dist_P9))\n",
    "print(\"P9R:- \",\"Mean = \", statistics.mean(dist_P9R),\"Variance = \",statistics.variance(dist_P9R),\"Max entropy created = \",max(dist_P9R))\n",
    "print(\"P9T:- \",\"Mean = \", statistics.mean(dist_P9T),\" Variance = \",statistics.variance(dist_P9T),\"Max entropy created = \",max(dist_P9T))"
   ]
  },
  {
   "cell_type": "code",
   "execution_count": 163,
   "id": "6c42020f",
   "metadata": {},
   "outputs": [],
   "source": [
    "#Pending : The Kicked Algorithm to prove LU connectedness"
   ]
  },
  {
   "cell_type": "markdown",
   "id": "50328e1f",
   "metadata": {},
   "source": [
    "## Entanglement Distribution Studies on (4,4)"
   ]
  },
  {
   "cell_type": "markdown",
   "id": "3fddc242",
   "metadata": {},
   "source": [
    "## The $P_{16}$ Unitary and its Reshaped Versions"
   ]
  },
  {
   "cell_type": "code",
   "execution_count": 15,
   "id": "4cec3d72",
   "metadata": {},
   "outputs": [],
   "source": [
    "P16=[[1, 0, 0, 0, 0, 0, 0, 0, 0, 0, 0, 0, 0, 0, 0, 0], [0, 0, 0, 0, 0, 0, \n",
    "  1, 0, 0, 0, 0, 0, 0, 0, 0, 0], [0, 0, 0, 0, 0, 0, 0, 0, 0, 0, 0, 1, \n",
    "  0, 0, 0, 0], [0, 0, 0, 0, 0, 0, 0, 0, 0, 0, 0, 0, 0, 1, 0, 0], [0, \n",
    "  0, 0, 0, 0, 1, 0, 0, 0, 0, 0, 0, 0, 0, 0, 0], [0, 0, 0, 1, 0, 0, 0, \n",
    "  0, 0, 0, 0, 0, 0, 0, 0, 0], [0, 0, 0, 0, 0, 0, 0, 0, 0, 0, 0, 0, 0, \n",
    "  0, 1, 0], [0, 0, 0, 0, 0, 0, 0, 0, 1, 0, 0, 0, 0, 0, 0, 0], [0, 0, \n",
    "  0, 0, 0, 0, 0, 0, 0, 0, 1, 0, 0, 0, 0, 0], [0, 0, 0, 0, 0, 0, 0, 0, \n",
    "  0, 0, 0, 0, 1, 0, 0, 0], [0, 1, 0, 0, 0, 0, 0, 0, 0, 0, 0, 0, 0, 0, \n",
    "  0, 0], [0, 0, 0, 0, 0, 0, 0, 1, 0, 0, 0, 0, 0, 0, 0, 0], [0, 0, 0, \n",
    "  0, 0, 0, 0, 0, 0, 0, 0, 0, 0, 0, 0, 1], [0, 0, 0, 0, 0, 0, 0, 0, 0, \n",
    "  1, 0, 0, 0, 0, 0, 0], [0, 0, 0, 0, 1, 0, 0, 0, 0, 0, 0, 0, 0, 0, 0, \n",
    "  0], [0, 0, 1, 0, 0, 0, 0, 0, 0, 0, 0, 0, 0, 0, 0, 0]]\n",
    "P16=np.array(P16)"
   ]
  },
  {
   "cell_type": "code",
   "execution_count": 16,
   "id": "c555f8f1",
   "metadata": {},
   "outputs": [],
   "source": [
    "P16R=UR(P16,4)\n",
    "P16T=UT(P16,4)"
   ]
  },
  {
   "cell_type": "code",
   "execution_count": 17,
   "id": "84ca2c7c",
   "metadata": {},
   "outputs": [],
   "source": [
    "dist_P16=[]\n",
    "for i in range(10**5):\n",
    "    dist_P16.append(EntangEnt(np.dot(P16,np.kron(HaarGen(4),HaarGen(4))),4))"
   ]
  },
  {
   "cell_type": "code",
   "execution_count": 18,
   "id": "581b488b",
   "metadata": {},
   "outputs": [],
   "source": [
    "dist_P16R=[]\n",
    "for i in range(10**5):\n",
    "    dist_P16R.append(EntangEnt(np.dot(P16R,np.kron(HaarGen(4),HaarGen(4))),4))"
   ]
  },
  {
   "cell_type": "code",
   "execution_count": 19,
   "id": "56996c95",
   "metadata": {},
   "outputs": [],
   "source": [
    "dist_P16T=[]\n",
    "for i in range(10**5):\n",
    "    dist_P16T.append(EntangEnt(np.dot(P16T,np.kron(HaarGen(4),HaarGen(4))),4))"
   ]
  },
  {
   "cell_type": "code",
   "execution_count": 20,
   "id": "b61066f8",
   "metadata": {},
   "outputs": [
    {
     "data": {
      "image/png": "[encoded data removed]",
      "text/plain": [
       "<Figure size 432x288 with 1 Axes>"
      ]
     },
     "metadata": {
      "needs_background": "light"
     },
     "output_type": "display_data"
    },
    {
     "name": "stdout",
     "output_type": "stream",
     "text": [
      "P16 :-  Mean =  1.5045701306516774 Variance =  0.02016939410700611  Max entropy created =  1.9775056267916211\n",
      "P16R:-  Mean =  1.5042800846384872 Variance =  0.02005995447748294 Max entropy created =  1.9666177998204524\n",
      "P16T:-  Mean =  1.5035606904805467  Variance =  0.020125574007344695 Max entropy created =  1.964553421677883\n"
     ]
    }
   ],
   "source": [
    "plt.hist(dist_P16,bins=200,density=True,label='P16')\n",
    "plt.hist(dist_P16R,bins=200,density=True,label='P16R')\n",
    "plt.hist(dist_P16T,bins=200,density=True,label='P16T')\n",
    "plt.legend(loc='upper right')\n",
    "plt.show()\n",
    "print(\"P16 :- \",\"Mean = \", statistics.mean(dist_P16),\"Variance = \",statistics.variance(dist_P16),\" Max entropy created = \",max(dist_P16))\n",
    "print(\"P16R:- \",\"Mean = \", statistics.mean(dist_P16R),\"Variance = \",statistics.variance(dist_P16R),\"Max entropy created = \",max(dist_P16R))\n",
    "print(\"P16T:- \",\"Mean = \", statistics.mean(dist_P16T),\" Variance = \",statistics.variance(dist_P16T),\"Max entropy created = \",max(dist_P16T))"
   ]
  },
  {
   "cell_type": "code",
   "execution_count": 21,
   "id": "d9b16554",
   "metadata": {},
   "outputs": [
    {
     "data": {
      "text/plain": [
       "(100, 100)"
      ]
     },
     "execution_count": 21,
     "metadata": {},
     "output_type": "execute_result"
    }
   ],
   "source": [
    "import scipy.io\n",
    "mat2 = scipy.io.loadmat('P100.mat')\n",
    "P100=mat2['Expression1']\n",
    "np.shape(P100)"
   ]
  },
  {
   "cell_type": "code",
   "execution_count": 12,
   "id": "8268d247",
   "metadata": {},
   "outputs": [],
   "source": [
    "P100R=UR(P100,10)\n",
    "P100T=UT(P100,10)"
   ]
  },
  {
   "cell_type": "code",
   "execution_count": 14,
   "id": "6abd7cf4",
   "metadata": {},
   "outputs": [
    {
     "name": "stdout",
     "output_type": "stream",
     "text": [
      "(1.0, 1.0)\n",
      "(1.0, 1.0)\n",
      "(1.0, 1.0)\n"
     ]
    }
   ],
   "source": [
    "print(EntVec(P100,10))\n",
    "print(EntVec(P100R,10))\n",
    "print(EntVec(P100T,10))"
   ]
  },
  {
   "cell_type": "code",
   "execution_count": 61,
   "id": "011c1760",
   "metadata": {},
   "outputs": [],
   "source": [
    "s3=[]\n",
    "for i in range(10**6):\n",
    "    s3.append(EntangEnt(np.dot(P100,np.kron(HaarGen(10),HaarGen(10))),10))"
   ]
  },
  {
   "cell_type": "code",
   "execution_count": 92,
   "id": "bfe40bc7",
   "metadata": {},
   "outputs": [],
   "source": [
    "s4=[]\n",
    "for i in range(10**4):\n",
    "    s4.append(EntangEnt(np.dot(P100R,np.kron(HaarGen(10),HaarGen(10))),10))"
   ]
  },
  {
   "cell_type": "code",
   "execution_count": 109,
   "id": "a90c10e2",
   "metadata": {},
   "outputs": [],
   "source": [
    "s5=[]\n",
    "for i in range(10**4):\n",
    "    s5.append(EntangEnt(np.dot(P100T,np.kron(HaarGen(10),HaarGen(10))),10))"
   ]
  },
  {
   "cell_type": "code",
   "execution_count": 100,
   "id": "c5f8c378",
   "metadata": {},
   "outputs": [],
   "source": [
    "UControl=unitary_group.rvs(100)\n",
    "s6=[]\n",
    "for i in range(10**4):\n",
    "    s6.append(EntangEnt(np.dot(UControl,np.kron(HaarGen(10),HaarGen(10))),10))"
   ]
  },
  {
   "cell_type": "code",
   "execution_count": 63,
   "id": "6322636d",
   "metadata": {},
   "outputs": [
    {
     "data": {
      "image/png": "[encoded data removed]",
      "text/plain": [
       "<Figure size 432x288 with 1 Axes>"
      ]
     },
     "metadata": {
      "needs_background": "light"
     },
     "output_type": "display_data"
    }
   ],
   "source": [
    "plt.hist(s3,bins=400,density=True,label='P100')\n",
    "plt.hist(s7,bins=400,density=True,label='P100T')\n",
    "plt.legend(loc='upper right')\n",
    "plt.show()"
   ]
  },
  {
   "cell_type": "code",
   "execution_count": 111,
   "id": "1751abbc",
   "metadata": {},
   "outputs": [
    {
     "name": "stdout",
     "output_type": "stream",
     "text": [
      "0.00021875539499248864\n",
      "-0.00680179196587608\n",
      "0.00016523121197455225\n",
      "-0.07059249246064159\n"
     ]
    }
   ],
   "source": [
    "print((statistics.mean(s3)-statistics.mean(s5))/statistics.mean(s3))\n",
    "print((statistics.variance(s3)-statistics.variance(s5))/statistics.variance(s3))\n",
    "print((statistics.mean(s3)-statistics.mean(s4))/statistics.mean(s3))\n",
    "print((statistics.variance(s3)-statistics.variance(s4))/statistics.variance(s3))"
   ]
  },
  {
   "cell_type": "code",
   "execution_count": 38,
   "id": "d9dc9933",
   "metadata": {},
   "outputs": [
    {
     "name": "stdout",
     "output_type": "stream",
     "text": [
      "2.6927771581078472 0.003855180963804201 2.693996788810047 0.003846523612019522\n"
     ]
    }
   ],
   "source": [
    "print(statistics.mean(s3),statistics.variance(s3),statistics.mean(s7),statistics.variance(s7))"
   ]
  },
  {
   "cell_type": "code",
   "execution_count": 54,
   "id": "fe461615",
   "metadata": {},
   "outputs": [],
   "source": [
    "def Complex2UnitaryPerturber(U,N):\n",
    "    v=[cmath.exp(1j*random.random()*2*math.pi) for i in range(N)]\n",
    "    D=np.diag(v)\n",
    "    return D@U"
   ]
  },
  {
   "cell_type": "code",
   "execution_count": 59,
   "id": "fd7bff29",
   "metadata": {},
   "outputs": [
    {
     "name": "stdout",
     "output_type": "stream",
     "text": [
      "False\n"
     ]
    }
   ],
   "source": [
    "U_Test=[]\n",
    "flag=False\n",
    "s7=[]\n",
    "for i in range(1):\n",
    "    U_Test=Real2UnitaryPerturber(P100,100)\n",
    "    for j in range(10**5):\n",
    "        s7.append(EntangEnt(np.dot(U_Test,np.kron(HaarGen(10),HaarGen(10))),10))\n",
    "    if(not (math.isclose(statistics.mean(s3),statistics.mean(s7),abs_tol=10**-2) and math.isclose(statistics.variance(s3),statistics.variance(s7),abs_tol=10**-2))):\n",
    "        flag=True\n",
    "        break\n",
    "print(flag)"
   ]
  }
 ],
 "metadata": {
  "kernelspec": {
   "display_name": "Python 3 (ipykernel)",
   "language": "python",
   "name": "python3"
  },
  "language_info": {
   "codemirror_mode": {
    "name": "ipython",
    "version": 3
   },
   "file_extension": ".py",
   "mimetype": "text/x-python",
   "name": "python",
   "nbconvert_exporter": "python",
   "pygments_lexer": "ipython3",
   "version": "3.9.7"
  }
 },
 "nbformat": 4,
 "nbformat_minor": 5
}
