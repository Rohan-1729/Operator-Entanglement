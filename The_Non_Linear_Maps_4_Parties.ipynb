{
 "cells": [
  {
   "cell_type": "code",
   "execution_count": 1,
   "id": "389c682f",
   "metadata": {},
   "outputs": [],
   "source": [
    "from scipy.stats import unitary_group\n",
    "from itertools import permutations\n",
    "import numpy as np\n",
    "from numpy import linalg as la\n",
    "import matplotlib.pyplot as plt\n",
    "import itertools\n",
    "import cmath\n",
    "from mpl_toolkits.axes_grid1.inset_locator import (inset_axes,InsetPosition)\n",
    "from scipy.stats import unitary_group"
   ]
  },
  {
   "cell_type": "code",
   "execution_count": 2,
   "id": "022200c3",
   "metadata": {},
   "outputs": [],
   "source": [
    "def Upol(U):\n",
    "    return np.dot(np.linalg.svd(U)[0],np.linalg.svd(U)[2])"
   ]
  },
  {
   "cell_type": "code",
   "execution_count": 3,
   "id": "c4538dcb",
   "metadata": {},
   "outputs": [],
   "source": [
    "def ConjugateTranspose(self):\n",
    "    return self.conj().T"
   ]
  },
  {
   "cell_type": "code",
   "execution_count": 4,
   "id": "d03511a8",
   "metadata": {},
   "outputs": [],
   "source": [
    "def UnitaryMatrixQ(U,N):\n",
    "    return np.allclose(np.dot(U,ConjugateTranspose(U)),np.eye(N),rtol=0,atol=1e-06)"
   ]
  },
  {
   "cell_type": "code",
   "execution_count": 5,
   "id": "fe824571",
   "metadata": {},
   "outputs": [],
   "source": [
    "def UR(U,d):\n",
    "    N=d*d\n",
    "    return U.reshape([d,d,d,d]).transpose([0,2,1,3]).reshape(N,N)"
   ]
  },
  {
   "cell_type": "code",
   "execution_count": 6,
   "id": "a68c8bf7",
   "metadata": {},
   "outputs": [],
   "source": [
    "def UT(U,d):\n",
    "    N=d*d\n",
    "    return U.reshape([d,d,d,d]).transpose([2,1,0,3]).reshape(N,N)"
   ]
  },
  {
   "cell_type": "code",
   "execution_count": 7,
   "id": "8adda4c0",
   "metadata": {},
   "outputs": [],
   "source": [
    "def MR(U,d):\n",
    "    return Upol(UR(U,d))"
   ]
  },
  {
   "cell_type": "code",
   "execution_count": 8,
   "id": "1b0f4d96",
   "metadata": {},
   "outputs": [],
   "source": [
    "def MTR(U,d):\n",
    "    return Upol(UT(UR(U,d),d))"
   ]
  },
  {
   "cell_type": "code",
   "execution_count": 9,
   "id": "2b04f981",
   "metadata": {},
   "outputs": [],
   "source": [
    "def EntVec(U,d):\n",
    "    URU=UR(U,d)\n",
    "    M1=la.matrix_power(np.dot(URU,ConjugateTranspose(URU)),2)\n",
    "    EU=(1-1/d**4*M1.trace())/(1-1/d**2)\n",
    "    \n",
    "    UTU=UT(U,d)\n",
    "    M2=la.matrix_power(np.dot(UTU,ConjugateTranspose(UTU)),2)\n",
    "    EUS=(1-1/d**4*M2.trace())/(1-1/d**2)\n",
    "    \n",
    "    EU=EU.real\n",
    "    EUS=EUS.real\n",
    "    return (EU,EUS)"
   ]
  },
  {
   "cell_type": "code",
   "execution_count": 10,
   "id": "e17b0060",
   "metadata": {},
   "outputs": [],
   "source": [
    "def NLMap(U,d,iter):\n",
    "    U0=U\n",
    "    for i in range(iter):\n",
    "        U0=MTR(U0,d)\n",
    "    return U0"
   ]
  },
  {
   "cell_type": "code",
   "execution_count": 11,
   "id": "2759d0a0",
   "metadata": {},
   "outputs": [],
   "source": [
    "import scipy.io\n",
    "mat2 = scipy.io.loadmat('P100.mat')\n",
    "P100=mat2['Expression1']"
   ]
  }
 ],
 "metadata": {
  "kernelspec": {
   "display_name": "Python 3 (ipykernel)",
   "language": "python",
   "name": "python3"
  },
  "language_info": {
   "codemirror_mode": {
    "name": "ipython",
    "version": 3
   },
   "file_extension": ".py",
   "mimetype": "text/x-python",
   "name": "python",
   "nbconvert_exporter": "python",
   "pygments_lexer": "ipython3",
   "version": "3.9.7"
  }
 },
 "nbformat": 4,
 "nbformat_minor": 5
}
